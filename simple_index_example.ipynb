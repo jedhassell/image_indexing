{
 "cells": [
  {
   "cell_type": "markdown",
   "metadata": {},
   "source": [
    "#### Vectorize images for index"
   ]
  },
  {
   "cell_type": "code",
   "execution_count": 218,
   "metadata": {},
   "outputs": [
    {
     "name": "stderr",
     "output_type": "stream",
     "text": [
      "/usr/local/Cellar/python3/3.6.4_2/Frameworks/Python.framework/Versions/3.6/lib/python3.6/site-packages/skimage/transform/_warps.py:84: UserWarning: The default mode, 'constant', will be changed to 'reflect' in skimage 0.15.\n",
      "  warn(\"The default mode, 'constant', will be changed to 'reflect' in \"\n"
     ]
    },
    {
     "name": "stdout",
     "output_type": "stream",
     "text": [
      "(20, 10000)\n"
     ]
    }
   ],
   "source": [
    "import imageio\n",
    "from skimage import color\n",
    "from skimage.transform import rescale, resize, downscale_local_mean\n",
    "import glob\n",
    "import faiss\n",
    "\n",
    "image_paths = []\n",
    "image_width_height = 100\n",
    "vector_length = image_width_height * image_width_height\n",
    "\n",
    "images = np.empty((0, vector_length))\n",
    "for filename in glob.iglob('temp/*.JPG'):\n",
    "    image_paths.append(filename)\n",
    "    im = imageio.imread(filename)\n",
    "    image_resized = resize(im, (image_width_height, image_width_height))\n",
    "    gray_image = color.rgb2gray(image_resized)\n",
    "    file_array = gray_image.flatten()\n",
    "    images = np.append(images, [file_array], axis=0)\n",
    "\n",
    "print(images.shape)"
   ]
  },
  {
   "cell_type": "markdown",
   "metadata": {},
   "source": [
    "#### Create index"
   ]
  },
  {
   "cell_type": "code",
   "execution_count": 219,
   "metadata": {},
   "outputs": [],
   "source": [
    "index = faiss.IndexFlatL2(vector_length)   \n",
    "index.add(images.astype('float32'))                 "
   ]
  },
  {
   "cell_type": "markdown",
   "metadata": {},
   "source": [
    "#### Create for query"
   ]
  },
  {
   "cell_type": "code",
   "execution_count": 222,
   "metadata": {},
   "outputs": [
    {
     "name": "stderr",
     "output_type": "stream",
     "text": [
      "/usr/local/Cellar/python3/3.6.4_2/Frameworks/Python.framework/Versions/3.6/lib/python3.6/site-packages/skimage/transform/_warps.py:84: UserWarning: The default mode, 'constant', will be changed to 'reflect' in skimage 0.15.\n",
      "  warn(\"The default mode, 'constant', will be changed to 'reflect' in \"\n"
     ]
    }
   ],
   "source": [
    "query_image_path = 'temp/IMG_5728.JPG'\n",
    "im = imageio.imread(query_image_path)\n",
    "image_resized = resize(im, (image_width_height, image_width_height))\n",
    "gray_image = color.rgb2gray(image_resized)\n",
    "query_image = gray_image.flatten()\n",
    "query_image = query_image.astype('float32')"
   ]
  },
  {
   "cell_type": "markdown",
   "metadata": {},
   "source": [
    "#### Query index"
   ]
  },
  {
   "cell_type": "code",
   "execution_count": 223,
   "metadata": {},
   "outputs": [
    {
     "name": "stdout",
     "output_type": "stream",
     "text": [
      "Image: temp/IMG_5728.JPG with distance: 0.0\n",
      "Image: temp/IMG_5727.JPG with distance: 272.7445983886719\n",
      "Image: temp/IMG_5726.JPG with distance: 301.1065673828125\n",
      "Image: temp/IMG_5697.JPG with distance: 561.5797119140625\n",
      "Image: temp/IMG_5696.JPG with distance: 587.7701416015625\n",
      "Query Image: temp/IMG_5728.JPG\n"
     ]
    }
   ],
   "source": [
    "k = 5\n",
    "query = np.array([query_image])\n",
    "D, I = index.search(query, k)     # actual search\n",
    "\n",
    "for i in range(D.shape[1]):\n",
    "    print(f'Image: {image_paths[I[0][i]]} with distance: {D[0][i]}')\n",
    "    \n",
    "print(f'Query Image: {query_image_path}')"
   ]
  },
  {
   "cell_type": "code",
   "execution_count": null,
   "metadata": {},
   "outputs": [],
   "source": []
  },
  {
   "cell_type": "code",
   "execution_count": null,
   "metadata": {},
   "outputs": [],
   "source": []
  }
 ],
 "metadata": {
  "kernelspec": {
   "display_name": "Python 3",
   "language": "python",
   "name": "python3"
  },
  "language_info": {
   "codemirror_mode": {
    "name": "ipython",
    "version": 3
   },
   "file_extension": ".py",
   "mimetype": "text/x-python",
   "name": "python",
   "nbconvert_exporter": "python",
   "pygments_lexer": "ipython3",
   "version": "3.6.4"
  }
 },
 "nbformat": 4,
 "nbformat_minor": 2
}
